{
  "nbformat": 4,
  "nbformat_minor": 0,
  "metadata": {
    "colab": {
      "name": "touchfw_uploader.ipynb",
      "provenance": [],
      "collapsed_sections": []
    },
    "kernelspec": {
      "name": "python3",
      "display_name": "Python 3"
    },
    "language_info": {
      "name": "python"
    }
  },
  "cells": [
    {
      "cell_type": "code",
      "metadata": {
        "id": "E3RkbppjGSAj"
      },
      "source": [
        "!rm -rf $(pwd)/*"
      ],
      "execution_count": 18,
      "outputs": []
    },
    {
      "cell_type": "code",
      "metadata": {
        "id": "_SHGC4TM1vAc"
      },
      "source": [
        "!apt install aria2 gcc-avr xxd dos2unix &> /dev/null\n",
        "!wget https://github.com/Jebaitedneko/scripts/raw/master/0007-touch-fw-dumper/dump_touch_fw.sh &> /dev/null\n",
        "!chmod +x dump_touch_fw.sh\n",
        "![ -f .src ] && cat .src | while read f; do bash -c \"nohup bash dump_touch_fw.sh \"$f\" u &\"; done\n",
        "![ -f links.txt ] && echo -e \"\\n\" && cat links.txt"
      ],
      "execution_count": null,
      "outputs": []
    }
  ]
}